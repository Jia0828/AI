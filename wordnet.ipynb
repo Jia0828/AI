{
  "nbformat": 4,
  "nbformat_minor": 0,
  "metadata": {
    "colab": {
      "name": "10.wordnet.ipynb",
      "provenance": []
    },
    "kernelspec": {
      "name": "python3",
      "display_name": "Python 3"
    },
    "language_info": {
      "name": "python"
    }
  },
  "cells": [
    {
      "cell_type": "markdown",
      "source": [
        "# 中文wordnet\n",
        "完整用法：https://github.com/lopentu/CwnGraph\n",
        "\n",
        "- 早期利用字詞表達文章的用法，可以透過查詢wordnet，找出查詢字跟那些字有關係。\n",
        "- wordnet是透過人工的方式，建立起字詞之間的關係\n",
        "- 本範例介紹中文的wordnet，查詢\"頭\"這個字，看有多少跟\"頭\"相關的字詞\n",
        "- 另外介紹英文的wordnet，查詢跟\"dog\"相似的字詞"
      ],
      "metadata": {
        "id": "NLZPCMu0_SMu"
      }
    },
    {
      "cell_type": "code",
      "source": [
        "!pip install CwnGraph"
      ],
      "metadata": {
        "id": "2E02jlhZ8rr7",
        "outputId": "4987cb06-7b10-4266-f364-dd2061a496fb",
        "colab": {
          "base_uri": "https://localhost:8080/"
        }
      },
      "execution_count": 1,
      "outputs": [
        {
          "output_type": "stream",
          "name": "stdout",
          "text": [
            "Collecting CwnGraph\n",
            "  Downloading CwnGraph-0.4.0-py3-none-any.whl (32 kB)\n",
            "Requirement already satisfied: gdown>=4.4.0 in /usr/local/lib/python3.10/dist-packages (from CwnGraph) (5.1.0)\n",
            "Requirement already satisfied: requests in /usr/local/lib/python3.10/dist-packages (from CwnGraph) (2.31.0)\n",
            "Requirement already satisfied: nltk in /usr/local/lib/python3.10/dist-packages (from CwnGraph) (3.8.1)\n",
            "Requirement already satisfied: beautifulsoup4 in /usr/local/lib/python3.10/dist-packages (from gdown>=4.4.0->CwnGraph) (4.12.3)\n",
            "Requirement already satisfied: filelock in /usr/local/lib/python3.10/dist-packages (from gdown>=4.4.0->CwnGraph) (3.14.0)\n",
            "Requirement already satisfied: tqdm in /usr/local/lib/python3.10/dist-packages (from gdown>=4.4.0->CwnGraph) (4.66.4)\n",
            "Requirement already satisfied: click in /usr/local/lib/python3.10/dist-packages (from nltk->CwnGraph) (8.1.7)\n",
            "Requirement already satisfied: joblib in /usr/local/lib/python3.10/dist-packages (from nltk->CwnGraph) (1.4.2)\n",
            "Requirement already satisfied: regex>=2021.8.3 in /usr/local/lib/python3.10/dist-packages (from nltk->CwnGraph) (2023.12.25)\n",
            "Requirement already satisfied: charset-normalizer<4,>=2 in /usr/local/lib/python3.10/dist-packages (from requests->CwnGraph) (3.3.2)\n",
            "Requirement already satisfied: idna<4,>=2.5 in /usr/local/lib/python3.10/dist-packages (from requests->CwnGraph) (3.7)\n",
            "Requirement already satisfied: urllib3<3,>=1.21.1 in /usr/local/lib/python3.10/dist-packages (from requests->CwnGraph) (2.0.7)\n",
            "Requirement already satisfied: certifi>=2017.4.17 in /usr/local/lib/python3.10/dist-packages (from requests->CwnGraph) (2024.2.2)\n",
            "Requirement already satisfied: soupsieve>1.2 in /usr/local/lib/python3.10/dist-packages (from beautifulsoup4->gdown>=4.4.0->CwnGraph) (2.5)\n",
            "Requirement already satisfied: PySocks!=1.5.7,>=1.5.6 in /usr/local/lib/python3.10/dist-packages (from requests->CwnGraph) (1.7.1)\n",
            "Installing collected packages: CwnGraph\n",
            "Successfully installed CwnGraph-0.4.0\n"
          ]
        }
      ]
    },
    {
      "cell_type": "code",
      "execution_count": 4,
      "metadata": {
        "colab": {
          "base_uri": "https://localhost:8080/"
        },
        "id": "Kuuu-WmF8M5u",
        "outputId": "b17933ac-2539-44c9-9e3a-2a7ab77cd277"
      },
      "outputs": [
        {
          "output_type": "execute_result",
          "data": {
            "text/plain": [
              "[<CwnLemma: 種子網路_1>, <CwnLemma: 網路_1>, <CwnLemma: 網際網路_1>]"
            ]
          },
          "metadata": {},
          "execution_count": 4
        }
      ],
      "source": [
        "from CwnGraph import CwnImage\n",
        "cwn = CwnImage.latest()\n",
        "lemmas = cwn.find_lemma(\"網路\")\n",
        "lemmas"
      ]
    },
    {
      "cell_type": "markdown",
      "source": [
        "#英文wordnet\n",
        "完整用法：https://www.nltk.org/howto/wordnet.html"
      ],
      "metadata": {
        "id": "13NyCY9p_Hpi"
      }
    },
    {
      "cell_type": "code",
      "source": [
        "import nltk\n",
        "nltk.download('wordnet')\n",
        "from nltk.corpus import wordnet as wn\n",
        "wn.synsets('dog')"
      ],
      "metadata": {
        "colab": {
          "base_uri": "https://localhost:8080/"
        },
        "id": "aDX0UHsY-dR5",
        "outputId": "af8a46d1-6fbd-4636-c63f-34202ad0db20"
      },
      "execution_count": 5,
      "outputs": [
        {
          "output_type": "stream",
          "name": "stderr",
          "text": [
            "[nltk_data] Downloading package wordnet to /root/nltk_data...\n",
            "[nltk_data]   Package wordnet is already up-to-date!\n"
          ]
        },
        {
          "output_type": "execute_result",
          "data": {
            "text/plain": [
              "[Synset('dog.n.01'),\n",
              " Synset('frump.n.01'),\n",
              " Synset('dog.n.03'),\n",
              " Synset('cad.n.01'),\n",
              " Synset('frank.n.02'),\n",
              " Synset('pawl.n.01'),\n",
              " Synset('andiron.n.01'),\n",
              " Synset('chase.v.01')]"
            ]
          },
          "metadata": {},
          "execution_count": 5
        }
      ]
    }
  ]
}